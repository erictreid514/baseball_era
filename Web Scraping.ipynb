{
 "cells": [
  {
   "cell_type": "code",
   "execution_count": 1,
   "id": "69a9740a",
   "metadata": {},
   "outputs": [],
   "source": [
    "import pandas as pd\n",
    "import numpy as np\n",
    "from bs4 import BeautifulSoup\n",
    "import requests\n",
    "import re"
   ]
  },
  {
   "cell_type": "code",
   "execution_count": 2,
   "id": "fe7ca19c",
   "metadata": {},
   "outputs": [
    {
     "data": {
      "text/plain": [
       "200"
      ]
     },
     "execution_count": 2,
     "metadata": {},
     "output_type": "execute_result"
    }
   ],
   "source": [
    "# This code will get the url and check if it ok to scrape the data from the website. If we get an r.status_code of 200, then we are good to go!\n",
    "url = 'https://www.baseball-reference.com/leaders/earned_run_avg_season.shtml'\n",
    "r = requests.get(url)\n",
    "r.status_code"
   ]
  },
  {
   "cell_type": "code",
   "execution_count": 3,
   "id": "246a88ca",
   "metadata": {},
   "outputs": [],
   "source": [
    "# the pd.read_html(url) is a builtiin function that scrapes the tables from a specific website. I will then save it as a list of tables.\n",
    "dfs = pd.read_html(url)"
   ]
  },
  {
   "cell_type": "code",
   "execution_count": 4,
   "id": "30687427",
   "metadata": {},
   "outputs": [],
   "source": [
    "# Since I am only worried about the data in the first table, I will create a table/dataframe will the first table which is received by calling the table at the 0 index.\n",
    "era = dfs[0]"
   ]
  },
  {
   "cell_type": "code",
   "execution_count": 5,
   "id": "18c060cf",
   "metadata": {},
   "outputs": [
    {
     "name": "stderr",
     "output_type": "stream",
     "text": [
      "C:\\Users\\erict\\AppData\\Local\\Temp\\ipykernel_15452\\144086844.py:3: FutureWarning: The default value of regex will change from True to False in a future version. In addition, single character regular expressions will *not* be treated as literal strings when regex=True.\n",
      "  era['Player (age that year)'] = era['Player (age that year)'].str.replace('+','')\n",
      "C:\\Users\\erict\\AppData\\Local\\Temp\\ipykernel_15452\\144086844.py:8: SettingWithCopyWarning: \n",
      "A value is trying to be set on a copy of a slice from a DataFrame.\n",
      "Try using .loc[row_indexer,col_indexer] = value instead\n",
      "\n",
      "See the caveats in the documentation: https://pandas.pydata.org/pandas-docs/stable/user_guide/indexing.html#returning-a-view-versus-a-copy\n",
      "  era['Rank'] = lst\n",
      "C:\\Users\\erict\\AppData\\Local\\Temp\\ipykernel_15452\\144086844.py:10: SettingWithCopyWarning: \n",
      "A value is trying to be set on a copy of a slice from a DataFrame.\n",
      "Try using .loc[row_indexer,col_indexer] = value instead\n",
      "\n",
      "See the caveats in the documentation: https://pandas.pydata.org/pandas-docs/stable/user_guide/indexing.html#returning-a-view-versus-a-copy\n",
      "  era['Year'] = pd.to_numeric(era['Year'])\n",
      "C:\\Users\\erict\\AppData\\Local\\Temp\\ipykernel_15452\\144086844.py:11: SettingWithCopyWarning: \n",
      "A value is trying to be set on a copy of a slice from a DataFrame.\n",
      "Try using .loc[row_indexer,col_indexer] = value instead\n",
      "\n",
      "See the caveats in the documentation: https://pandas.pydata.org/pandas-docs/stable/user_guide/indexing.html#returning-a-view-versus-a-copy\n",
      "  era['Earned Run Average'] = pd.to_numeric(era['Earned Run Average'])\n",
      "C:\\Users\\erict\\AppData\\Local\\Temp\\ipykernel_15452\\144086844.py:12: SettingWithCopyWarning: \n",
      "A value is trying to be set on a copy of a slice from a DataFrame.\n",
      "Try using .loc[row_indexer,col_indexer] = value instead\n",
      "\n",
      "See the caveats in the documentation: https://pandas.pydata.org/pandas-docs/stable/user_guide/indexing.html#returning-a-view-versus-a-copy\n",
      "  era['IP'] = pd.to_numeric(era['IP'])\n"
     ]
    }
   ],
   "source": [
    "# This step focuses on cleaning the data so that it can be used in an analysis later on.\n",
    "# If a player was a hall of famer, they got a '+' sign next to their name, and I want to remove that so I can split the data later on.\n",
    "era['Player (age that year)'] = era['Player (age that year)'].str.replace('+','')\n",
    "# This command will filter out all rows that do not have numerical data inside them due to the repetition of the column names throughout the dataframe.\n",
    "era = era[(era['Year'] != 'Year')]\n",
    "# This updates the rank of the players so that it lines up accurately with the athletes 1-500\n",
    "lst = list(np.arange(1,500+1))\n",
    "era['Rank'] = lst\n",
    "# These three command change the type of the columns to numbers. This makes it possible to perform exploratory data analyses later on.\n",
    "era['Year'] = pd.to_numeric(era['Year'])\n",
    "era['Earned Run Average'] = pd.to_numeric(era['Earned Run Average'])\n",
    "era['IP'] = pd.to_numeric(era['IP'])"
   ]
  },
  {
   "cell_type": "code",
   "execution_count": 6,
   "id": "6cafe458",
   "metadata": {},
   "outputs": [],
   "source": [
    "# Since this next step will focus on cleaning the data on a more detailed level, I want to make a copy of the data frame so that if a mistake is made, it won't be too big of a problem!\n",
    "p = era.copy()"
   ]
  },
  {
   "cell_type": "code",
   "execution_count": 7,
   "id": "4af8b080",
   "metadata": {},
   "outputs": [
    {
     "name": "stderr",
     "output_type": "stream",
     "text": [
      "C:\\Users\\erict\\AppData\\Local\\Temp\\ipykernel_15452\\3333532219.py:16: FutureWarning: The default value of regex will change from True to False in a future version. In addition, single character regular expressions will *not* be treated as literal strings when regex=True.\n",
      "  p['Age'] = p['Age'].str.replace(')','')\n"
     ]
    }
   ],
   "source": [
    "# Almost every player has the age of the player during the year that they had the Earned Run Average. I am going to create a separate column with the ages of the players\n",
    "# This command creates a new column with the values in the player column split before and after the first parenthesis \n",
    "p['age1'] = p['Player (age that year)'].apply(lambda x: x.split(\"(\"))\n",
    "# This command creates a new column with all the values that only contain the ages of the players not their names.\n",
    "p['Age'] = p['age1'].apply(lambda x:x[-1])\n",
    "# Some players did not have an age, so I assumed that the average age would be around 27 and added this value in place of their ages.\n",
    "p.iloc[0,7] = '27)'\n",
    "p.iloc[30,7] = '27)'\n",
    "p.iloc[150,7] = '27)'\n",
    "p.iloc[306,7] = '27)'\n",
    "p.iloc[320,7] = '27)'\n",
    "p.iloc[323,7] = '27)'\n",
    "p.iloc[346,7] = '27)'\n",
    "p.iloc[470,7] = '27)'\n",
    "# This command finishes cleaning the column so that only the number is in the column.\n",
    "p['Age'] = p['Age'].str.replace(')','')\n",
    "# This changes the type of the column to numeric, so we can perform analyses with this column.\n",
    "p['Age'] = pd.to_numeric(p['Age'])\n"
   ]
  },
  {
   "cell_type": "code",
   "execution_count": 8,
   "id": "8063d267",
   "metadata": {},
   "outputs": [],
   "source": [
    "# This drops the intermediate column I created to isolate the ages of the players. \n",
    "p = p.drop(columns=['age1'])\n",
    "# This saves all the changes from the previous steps back to the original era dataframe.\n",
    "era = p\n",
    "# This saves the dataframe as a csv file\n",
    "era.to_csv(\"era.csv\", index=False)"
   ]
  },
  {
   "cell_type": "code",
   "execution_count": null,
   "id": "87162958",
   "metadata": {},
   "outputs": [],
   "source": []
  }
 ],
 "metadata": {
  "kernelspec": {
   "display_name": "Python 3 (ipykernel)",
   "language": "python",
   "name": "python3"
  },
  "language_info": {
   "codemirror_mode": {
    "name": "ipython",
    "version": 3
   },
   "file_extension": ".py",
   "mimetype": "text/x-python",
   "name": "python",
   "nbconvert_exporter": "python",
   "pygments_lexer": "ipython3",
   "version": "3.9.12"
  }
 },
 "nbformat": 4,
 "nbformat_minor": 5
}
